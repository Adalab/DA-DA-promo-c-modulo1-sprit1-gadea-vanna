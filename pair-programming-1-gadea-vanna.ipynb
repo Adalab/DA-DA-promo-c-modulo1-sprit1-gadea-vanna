{
 "cells": [
  {
   "cell_type": "code",
   "execution_count": 4,
   "metadata": {},
   "outputs": [
    {
     "name": "stdout",
     "output_type": "stream",
     "text": [
      "<class 'int'>\n",
      "<class 'int'>\n"
     ]
    },
    {
     "data": {
      "text/plain": [
       "True"
      ]
     },
     "execution_count": 4,
     "metadata": {},
     "output_type": "execute_result"
    }
   ],
   "source": [
    "numero1 = 1\n",
    "numero2 = 2\n",
    "numero3 = 3\n",
    "#aquí damos dos opciones para comprobar la clase de la variable \n",
    "print(type(numero1))\n",
    "print(type(numero2))\n",
    "isinstance(numero3, int)\n"
   ]
  },
  {
   "cell_type": "markdown",
   "metadata": {},
   "source": [
    "# ¿se pueden poner las 3 variables en la misma línea?"
   ]
  },
  {
   "cell_type": "code",
   "execution_count": 7,
   "metadata": {},
   "outputs": [
    {
     "name": "stdout",
     "output_type": "stream",
     "text": [
      "False\n"
     ]
    },
    {
     "data": {
      "text/plain": [
       "True"
      ]
     },
     "execution_count": 7,
     "metadata": {},
     "output_type": "execute_result"
    }
   ],
   "source": [
    "print(numero1 > numero2)\n",
    "\n",
    "numero3 < numero1 < numero2\n",
    "numero3 == numero2\n",
    "numero2 != numero1"
   ]
  },
  {
   "cell_type": "code",
   "execution_count": 14,
   "metadata": {},
   "outputs": [
    {
     "name": "stdout",
     "output_type": "stream",
     "text": [
      "4.0\n",
      "-1.0\n",
      "1.5\n",
      "0.6\n"
     ]
    }
   ],
   "source": [
    "# Variable Float / Matematicos (+ / *)\n",
    "altura1 = 1.5\n",
    "altura2 = 2.5\n",
    "\n",
    "altura1 + altura2\n",
    "altura1 - altura2\n",
    "altura1 % altura2 # resto de la division de las dos alturas\n",
    "altura_1_decimal = round(altura1/altura2, 1)\n",
    "print(altura_1_decimal)\n",
    "\n",
    "# ponemos los ejercicios duplicados con print para que se vean los resultados cuando se ejecute el código\n",
    "print(altura1 + altura2)\n",
    "print(altura1 - altura2)\n",
    "print(altura1 % altura2) # resto de la division de las dos alturas\n",
    "altura_1_decimal = round(altura1/altura2, 1)\n",
    "print(altura_1_decimal)"
   ]
  },
  {
   "cell_type": "code",
   "execution_count": 2,
   "metadata": {},
   "outputs": [
    {
     "name": "stdout",
     "output_type": "stream",
     "text": [
      "ROMEO LOZITO\n"
     ]
    }
   ],
   "source": [
    "nombre_apellidos = input('¡Hola! Nombre y apellidos, por favor')\n",
    "print(nombre_apellidos.upper())"
   ]
  },
  {
   "cell_type": "code",
   "execution_count": 3,
   "metadata": {},
   "outputs": [
    {
     "name": "stdout",
     "output_type": "stream",
     "text": [
      "romeo lozito\n"
     ]
    }
   ],
   "source": [
    "nombre_apellidos = input('¡Hola! Nombre y apellidos, por favor')\n",
    "print(nombre_apellidos.lower())"
   ]
  },
  {
   "cell_type": "code",
   "execution_count": 5,
   "metadata": {},
   "outputs": [
    {
     "name": "stdout",
     "output_type": "stream",
     "text": [
      "Romeo Lozito\n"
     ]
    }
   ],
   "source": [
    "nombre_apellidos = input('¡Hola! Nombre y apellidos, por favor')\n",
    "print(nombre_apellidos.title())"
   ]
  },
  {
   "cell_type": "code",
   "execution_count": 7,
   "metadata": {},
   "outputs": [
    {
     "name": "stdout",
     "output_type": "stream",
     "text": [
      "Romeo lozito\n"
     ]
    }
   ],
   "source": [
    "nombre_apellidos = input('¡Hola! Nombre y apellidos, por favor')\n",
    "print(nombre_apellidos.capitalize())"
   ]
  },
  {
   "cell_type": "code",
   "execution_count": 2,
   "metadata": {},
   "outputs": [
    {
     "name": "stdout",
     "output_type": "stream",
     "text": [
      "Dame la frase mágica\n",
      "La frase mágica es voy al veterinario\n"
     ]
    }
   ],
   "source": [
    "#escribid un programa usando la funcion input que le pregunte al usuario por una frase y luego la almacene en una variable\n",
    "\n",
    "print('Dime la frase mágica')\n",
    "frase_magica = input()\n",
    "print('La frase mágica es ' + frase_magica)"
   ]
  },
  {
   "cell_type": "code",
   "execution_count": 4,
   "metadata": {},
   "outputs": [
    {
     "name": "stdout",
     "output_type": "stream",
     "text": [
      "¿Qué vocal compras?\n",
      "La vocal que has comprado es la a\n"
     ]
    }
   ],
   "source": [
    "#le preguntamos al usuario por una vocal. almacenamos el resultado una vocal\n",
    "print('¿Qué vocal compras?')\n",
    "vocal = input()\n",
    "print('La vocal que has comprado es la ' + vocal)"
   ]
  },
  {
   "cell_type": "code",
   "execution_count": 6,
   "metadata": {},
   "outputs": [
    {
     "name": "stdout",
     "output_type": "stream",
     "text": [
      "¿Qué vocal compras?\n",
      "La vocal que has comprado es la E\n"
     ]
    }
   ],
   "source": [
    "# la vocal que nos pide se la devolvemos mayúscula\n",
    "print('¿Qué vocal compras?')\n",
    "vocal = input()\n",
    "print('La vocal que has comprado es la ' + vocal.upper())"
   ]
  },
  {
   "cell_type": "code",
   "execution_count": 10,
   "metadata": {},
   "outputs": [
    {
     "name": "stdout",
     "output_type": "stream",
     "text": [
      "¿Cuál es tu lista de la compra\n",
      "Tu lista de la compra incluye peras, naranjas, y manzanas\n"
     ]
    }
   ],
   "source": [
    "#escribid un programa usando la funcion input que le pregunte al usuario por la lista de la compra separando por comas\n",
    "print('¿Cuál es tu lista de la compra?')\n",
    "lista_compra = input()\n",
    "print('Tu lista de la compra incluye ' + lista_compra)"
   ]
  },
  {
   "cell_type": "code",
   "execution_count": 27,
   "metadata": {},
   "outputs": [
    {
     "name": "stdout",
     "output_type": "stream",
     "text": [
      "¿Cuál es tu lista de la compra?\n",
      "['naranjas', ' peras', ' manzanas']\n"
     ]
    }
   ],
   "source": [
    "#devolved la lista de compra donde veamos cada elemento en una línea\n",
    "print('¿Cuál es tu lista de la compra?')\n",
    "lista_compra = input()\n",
    "lista_compra_sep = lista_compra.split(\",\")\n",
    "print(lista_compra_sep)\n"
   ]
  },
  {
   "cell_type": "code",
   "execution_count": 22,
   "metadata": {},
   "outputs": [
    {
     "name": "stdout",
     "output_type": "stream",
     "text": [
      "['naranjas', ' peras', ' manzanas']\n"
     ]
    }
   ],
   "source": [
    "print(lista_compra_sep)"
   ]
  }
 ],
 "metadata": {
  "kernelspec": {
   "display_name": "Python 3.6.9 64-bit",
   "language": "python",
   "name": "python3"
  },
  "language_info": {
   "codemirror_mode": {
    "name": "ipython",
    "version": 3
   },
   "file_extension": ".py",
   "mimetype": "text/x-python",
   "name": "python",
   "nbconvert_exporter": "python",
   "pygments_lexer": "ipython3",
   "version": "3.6.9"
  },
  "orig_nbformat": 4,
  "vscode": {
   "interpreter": {
    "hash": "31f2aee4e71d21fbe5cf8b01ff0e069b9275f58929596ceb00d14d90e3e16cd6"
   }
  }
 },
 "nbformat": 4,
 "nbformat_minor": 2
}
