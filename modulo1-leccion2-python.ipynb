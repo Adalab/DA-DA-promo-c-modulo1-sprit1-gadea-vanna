{
 "cells": [
  {
   "cell_type": "code",
   "execution_count": 5,
   "metadata": {},
   "outputs": [
    {
     "name": "stdout",
     "output_type": "stream",
     "text": [
      "gadea, vanna, romeo\n"
     ]
    }
   ],
   "source": [
    "amigxs = input('Dime el nombre de tres amigxs')\n",
    "print(amigxs)\n"
   ]
  },
  {
   "cell_type": "markdown",
   "metadata": {},
   "source": [
    "In order to have a list of elements once we have run the input we have to use the .split.\n",
    "It will give 3 different elements."
   ]
  },
  {
   "cell_type": "code",
   "execution_count": 7,
   "metadata": {},
   "outputs": [
    {
     "name": "stdout",
     "output_type": "stream",
     "text": [
      "['gadea,', 'vanna,', 'romeo']\n"
     ]
    }
   ],
   "source": [
    "amigxs_list = amigxs.split()\n",
    "print(amigxs_list)"
   ]
  },
  {
   "cell_type": "code",
   "execution_count": 9,
   "metadata": {},
   "outputs": [
    {
     "name": "stdout",
     "output_type": "stream",
     "text": [
      "1.60, 1.70, 0.80\n"
     ]
    }
   ],
   "source": [
    "alturas_amigxs = input('¿Cuánto miden tus amigxs?')\n",
    "print(alturas_amigxs)\n",
    "\n"
   ]
  },
  {
   "cell_type": "code",
   "execution_count": 22,
   "metadata": {},
   "outputs": [
    {
     "name": "stdout",
     "output_type": "stream",
     "text": [
      "['1.60,', '1.70,', '0.80']\n"
     ]
    }
   ],
   "source": [
    "lista_alturas = alturas_amigxs.split()\n",
    "print(lista_alturas)\n",
    "\n"
   ]
  },
  {
   "cell_type": "code",
   "execution_count": 23,
   "metadata": {},
   "outputs": [
    {
     "ename": "ValueError",
     "evalue": "could not convert string to float: '1.60,'",
     "output_type": "error",
     "traceback": [
      "\u001b[0;31m---------------------------------------------------------------------------\u001b[0m",
      "\u001b[0;31mValueError\u001b[0m                                Traceback (most recent call last)",
      "\u001b[0;32m/var/folders/66/3gn2x5sj3tlfxjp4wp1zg9n00000gn/T/ipykernel_3962/3701764234.py\u001b[0m in \u001b[0;36m<module>\u001b[0;34m\u001b[0m\n\u001b[0;32m----> 1\u001b[0;31m \u001b[0mlista_alturas\u001b[0m \u001b[0;34m=\u001b[0m \u001b[0;34m[\u001b[0m\u001b[0mfloat\u001b[0m\u001b[0;34m(\u001b[0m\u001b[0mi\u001b[0m\u001b[0;34m)\u001b[0m \u001b[0;32mfor\u001b[0m \u001b[0mi\u001b[0m \u001b[0;32min\u001b[0m \u001b[0mlista_alturas\u001b[0m\u001b[0;34m]\u001b[0m \u001b[0;31m#duda no me ha funcionado\u001b[0m\u001b[0;34m\u001b[0m\u001b[0;34m\u001b[0m\u001b[0m\n\u001b[0m",
      "\u001b[0;32m/var/folders/66/3gn2x5sj3tlfxjp4wp1zg9n00000gn/T/ipykernel_3962/3701764234.py\u001b[0m in \u001b[0;36m<listcomp>\u001b[0;34m(.0)\u001b[0m\n\u001b[0;32m----> 1\u001b[0;31m \u001b[0mlista_alturas\u001b[0m \u001b[0;34m=\u001b[0m \u001b[0;34m[\u001b[0m\u001b[0mfloat\u001b[0m\u001b[0;34m(\u001b[0m\u001b[0mi\u001b[0m\u001b[0;34m)\u001b[0m \u001b[0;32mfor\u001b[0m \u001b[0mi\u001b[0m \u001b[0;32min\u001b[0m \u001b[0mlista_alturas\u001b[0m\u001b[0;34m]\u001b[0m \u001b[0;31m#duda no me ha funcionado\u001b[0m\u001b[0;34m\u001b[0m\u001b[0;34m\u001b[0m\u001b[0m\n\u001b[0m",
      "\u001b[0;31mValueError\u001b[0m: could not convert string to float: '1.60,'"
     ]
    }
   ],
   "source": [
    "lista_alturas = [float(i) for i in lista_alturas] #duda no me ha funcionado"
   ]
  },
  {
   "cell_type": "code",
   "execution_count": 18,
   "metadata": {},
   "outputs": [
    {
     "name": "stdout",
     "output_type": "stream",
     "text": [
      "['gadea,', 'romeo', 'vanna,']\n"
     ]
    }
   ],
   "source": [
    "#ordenamos las listas. no nos funciona.\n",
    "amigxs_list.sort()\n",
    "print(amigxs_list)\n",
    "\n"
   ]
  },
  {
   "cell_type": "code",
   "execution_count": 24,
   "metadata": {},
   "outputs": [],
   "source": [
    "lista1 = [44, 55, 67, 44, 98, 29]\n",
    "lista2 = [34, 56, 56, 78, 67, 56]\n"
   ]
  },
  {
   "cell_type": "markdown",
   "metadata": {},
   "source": [
    "lista_lista is a list of 2 elements"
   ]
  },
  {
   "cell_type": "code",
   "execution_count": 25,
   "metadata": {},
   "outputs": [
    {
     "name": "stdout",
     "output_type": "stream",
     "text": [
      "[[44, 55, 67, 44, 98, 29], [34, 56, 56, 78, 67, 56]]\n"
     ]
    }
   ],
   "source": [
    "lista_lista = [lista1, lista2]\n",
    "print(lista_lista)"
   ]
  },
  {
   "cell_type": "markdown",
   "metadata": {},
   "source": [
    "lista_numeros is a list of all the elements we had in the 2 different lists (list1 and list2)"
   ]
  },
  {
   "cell_type": "code",
   "execution_count": 26,
   "metadata": {},
   "outputs": [
    {
     "name": "stdout",
     "output_type": "stream",
     "text": [
      "[44, 55, 67, 44, 98, 29, 34, 56, 56, 78, 67, 56]\n"
     ]
    }
   ],
   "source": [
    "lista_numeros = (lista1 + lista2) #para juntar dos listas ponemos dos paréntesis, no dos corchetes\n",
    "print(lista_numeros)"
   ]
  },
  {
   "cell_type": "markdown",
   "metadata": {},
   "source": [
    "lista_lista\n",
    "It gives 0 as a results because it is looking for the number 67 but we have 2 elements \n",
    "element 1 = [44, 55, 67, 44, 98, 29], \n",
    "element 2 = [34, 56, 56, 78, 67, 56]]"
   ]
  },
  {
   "cell_type": "code",
   "execution_count": null,
   "metadata": {},
   "outputs": [],
   "source": [
    "lista_lista.count(67)"
   ]
  },
  {
   "cell_type": "code",
   "execution_count": 31,
   "metadata": {},
   "outputs": [
    {
     "data": {
      "text/plain": [
       "2"
      ]
     },
     "execution_count": 31,
     "metadata": {},
     "output_type": "execute_result"
    }
   ],
   "source": [
    "len(lista_lista)\n"
   ]
  },
  {
   "cell_type": "markdown",
   "metadata": {},
   "source": [
    "lista_numeros\n",
    "It gives 2 because it is looking for the number 67 in all the elements which are the below \n",
    "[44, 55, 67, 44, 98, 29, 34, 56, 56, 78, 67, 56] - 12 elements"
   ]
  },
  {
   "cell_type": "code",
   "execution_count": 28,
   "metadata": {},
   "outputs": [
    {
     "data": {
      "text/plain": [
       "2"
      ]
     },
     "execution_count": 28,
     "metadata": {},
     "output_type": "execute_result"
    }
   ],
   "source": [
    "lista_numeros.count(67)"
   ]
  },
  {
   "cell_type": "code",
   "execution_count": 32,
   "metadata": {},
   "outputs": [
    {
     "data": {
      "text/plain": [
       "12"
      ]
     },
     "execution_count": 32,
     "metadata": {},
     "output_type": "execute_result"
    }
   ],
   "source": [
    "len(lista_numeros)"
   ]
  },
  {
   "cell_type": "code",
   "execution_count": 60,
   "metadata": {},
   "outputs": [
    {
     "data": {
      "text/plain": [
       "[98, 78, 67, 67, 56, 56, 56, 55, 44, 44, 34, 29]"
      ]
     },
     "execution_count": 60,
     "metadata": {},
     "output_type": "execute_result"
    }
   ],
   "source": [
    "lista_numeros.sort(reverse = True)\n",
    "lista_numeros"
   ]
  }
 ],
 "metadata": {
  "kernelspec": {
   "display_name": "Python 3.9.7 ('base')",
   "language": "python",
   "name": "python3"
  },
  "language_info": {
   "codemirror_mode": {
    "name": "ipython",
    "version": 3
   },
   "file_extension": ".py",
   "mimetype": "text/x-python",
   "name": "python",
   "nbconvert_exporter": "python",
   "pygments_lexer": "ipython3",
   "version": "3.9.7"
  },
  "orig_nbformat": 4,
  "vscode": {
   "interpreter": {
    "hash": "651c3b7b3f466eb030aa737f279c846be4db9cba49a2f229278cab5e41121ed5"
   }
  }
 },
 "nbformat": 4,
 "nbformat_minor": 2
}
