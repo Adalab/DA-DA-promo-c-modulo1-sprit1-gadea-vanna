{
 "cells": [
  {
   "cell_type": "code",
   "execution_count": 2,
   "metadata": {},
   "outputs": [
    {
     "name": "stdout",
     "output_type": "stream",
     "text": [
      "{'nombres': ['romeo, gadea, vana'], 'apellidos': ['lizoti, autric, lizoti2'], 'edades': ['8, 25, 37'], 'hijos': ['4, 2, 0']}\n"
     ]
    }
   ],
   "source": [
    "#hemos creado las listas de manera diferente: una solo con corchetes y otra con corchetes y comillas. \n",
    "#nos da el mismo resultado, así que no entendemos la diferencia (si existe) entre poner corchetes y comillas\n",
    "bikini = {'nombres' : [input('¿Me podrías decir 3 nombres?')],\n",
    "'apellidos': [input('¿Me podrías decir 3 apellidos?')],\n",
    "'edades': [input('¿Me podrías decir 3 edades?')],\n",
    "'hijos': [input('¿Cuántos hijos/as tienes?')]}\n",
    "print(bikini)"
   ]
  },
  {
   "cell_type": "code",
   "execution_count": 38,
   "metadata": {},
   "outputs": [
    {
     "name": "stdout",
     "output_type": "stream",
     "text": [
      "{'nombres': ['romeo, gadea, vanna'], 'apellidos': ['lozito, autric, lozito2'], 'edades': ['8, 25, 37'], 'hijos': ['4, 2, 0'], 'hermanos': 'no tiene'}\n"
     ]
    }
   ],
   "source": [
    "print(bikini)"
   ]
  },
  {
   "cell_type": "code",
   "execution_count": 40,
   "metadata": {},
   "outputs": [
    {
     "data": {
      "text/plain": [
       "{'nombres': ['romeo, gadea, vanna'],\n",
       " 'apellidos': ['lozito, autric, lozito2'],\n",
       " 'edades': ['8, 25, 37'],\n",
       " 'hijos': ['4, 2, 0'],\n",
       " 'hermanos': [3, 1, 1]}"
      ]
     },
     "execution_count": 40,
     "metadata": {},
     "output_type": "execute_result"
    }
   ],
   "source": [
    "bikini.update({\"hermanos\": [3, 1, 1]})\n",
    "bikini"
   ]
  },
  {
   "cell_type": "code",
   "execution_count": 43,
   "metadata": {},
   "outputs": [
    {
     "name": "stdout",
     "output_type": "stream",
     "text": [
      "dict_keys(['nombres', 'apellidos', 'edades', 'hijos', 'hermanos'])\n",
      "dict_values([['romeo, gadea, vanna'], ['lozito, autric, lozito2'], ['8, 25, 37'], ['4, 2, 0'], [3, 1, 1]])\n"
     ]
    }
   ],
   "source": [
    "#buscamos las keys y los values en el diccionario\n",
    "\n",
    "print(bikini.keys())\n",
    "print(bikini.values())"
   ]
  },
  {
   "cell_type": "code",
   "execution_count": 3,
   "metadata": {},
   "outputs": [
    {
     "data": {
      "text/plain": [
       "['romeo, gadea, vana']"
      ]
     },
     "execution_count": 3,
     "metadata": {},
     "output_type": "execute_result"
    }
   ],
   "source": [
    "#consultamos los values dentro de la key 'nombres'\n",
    "bikini[\"nombres\"]"
   ]
  }
 ],
 "metadata": {
  "kernelspec": {
   "display_name": "Python 3.10.7 64-bit",
   "language": "python",
   "name": "python3"
  },
  "language_info": {
   "codemirror_mode": {
    "name": "ipython",
    "version": 3
   },
   "file_extension": ".py",
   "mimetype": "text/x-python",
   "name": "python",
   "nbconvert_exporter": "python",
   "pygments_lexer": "ipython3",
   "version": "3.10.7"
  },
  "orig_nbformat": 4,
  "vscode": {
   "interpreter": {
    "hash": "0c7d85b6ca8c4414e9248eeaa7ba80594b1aefb2b06fa07a2481546730d70288"
   }
  }
 },
 "nbformat": 4,
 "nbformat_minor": 2
}
