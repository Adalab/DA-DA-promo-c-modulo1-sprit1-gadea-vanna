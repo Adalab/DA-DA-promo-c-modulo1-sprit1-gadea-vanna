{
 "cells": [
  {
   "cell_type": "code",
   "execution_count": 1,
   "metadata": {},
   "outputs": [],
   "source": [
    "import random\n",
    "lista = random.sample(range(1, 100),10)\n"
   ]
  },
  {
   "cell_type": "code",
   "execution_count": 2,
   "metadata": {},
   "outputs": [
    {
     "data": {
      "text/plain": [
       "[83, 89, 45, 98, 53, 7, 63, 30, 26, 97]"
      ]
     },
     "execution_count": 2,
     "metadata": {},
     "output_type": "execute_result"
    }
   ],
   "source": [
    "lista"
   ]
  },
  {
   "cell_type": "code",
   "execution_count": 3,
   "metadata": {},
   "outputs": [
    {
     "data": {
      "text/plain": [
       "10"
      ]
     },
     "execution_count": 3,
     "metadata": {},
     "output_type": "execute_result"
    }
   ],
   "source": [
    "len(lista)"
   ]
  },
  {
   "cell_type": "code",
   "execution_count": 4,
   "metadata": {},
   "outputs": [
    {
     "name": "stdout",
     "output_type": "stream",
     "text": [
      "45\n"
     ]
    }
   ],
   "source": [
    "# extraemos el numero que está en la tercera posición humana - teniendo en cuenta que se empieza a contar de 0 \n",
    "# [] localizar posición \n",
    "# .index() localizar un elemento \n",
    "\n",
    "print(lista[2])"
   ]
  },
  {
   "cell_type": "code",
   "execution_count": 5,
   "metadata": {},
   "outputs": [
    {
     "name": "stdout",
     "output_type": "stream",
     "text": [
      "45\n"
     ]
    }
   ],
   "source": [
    "# Extraed el número que esta en la tercera posición utilizando los índices negativos. \n",
    "# 10 que es el numero total de los elementos - (menos) la ubicacion del elemento en indice positivo \n",
    "\n",
    "print(lista[-8])"
   ]
  },
  {
   "cell_type": "code",
   "execution_count": 6,
   "metadata": {},
   "outputs": [
    {
     "data": {
      "text/plain": [
       "30"
      ]
     },
     "execution_count": 6,
     "metadata": {},
     "output_type": "execute_result"
    }
   ],
   "source": [
    "# Preguntad al usuario por un número de la lista que hemos creado en el primer paso\n",
    "\n",
    "num_usuaria = int(input(\"Dime un numero de la lista\"))\n",
    "num_usuaria\n"
   ]
  },
  {
   "cell_type": "code",
   "execution_count": 7,
   "metadata": {},
   "outputs": [
    {
     "data": {
      "text/plain": [
       "7"
      ]
     },
     "execution_count": 7,
     "metadata": {},
     "output_type": "execute_result"
    }
   ],
   "source": [
    "# ¿En que posición esta el número que ha eligido la usuaria?\n",
    "\n",
    "lista.index(num_usuaria)"
   ]
  },
  {
   "cell_type": "code",
   "execution_count": 8,
   "metadata": {},
   "outputs": [
    {
     "data": {
      "text/plain": [
       "[98, 53, 7]"
      ]
     },
     "execution_count": 8,
     "metadata": {},
     "output_type": "execute_result"
    }
   ],
   "source": [
    "# Extraed los valores que estén entre la tercera posición y la quinta (ambos inclusive). \n",
    "# Esto nos tendrá que devolver una lista de 3 elementos.\n",
    "\n",
    "lista[3:6]"
   ]
  },
  {
   "cell_type": "code",
   "execution_count": 9,
   "metadata": {},
   "outputs": [
    {
     "name": "stdout",
     "output_type": "stream",
     "text": [
      "[7, 63, 30, 26]\n",
      "[7, 63, 30, 26]\n"
     ]
    }
   ],
   "source": [
    "#Extraed los valores que estén entre las posiciones 6 y 9 utilizando índices negativos. \n",
    "# Os debe devolver una lista con 4 números.\n",
    "print(lista[-5:-1])\n",
    "\n",
    "#Hemos hecho en positivo para comprobar que los numeros coincidieran\n",
    "print(lista[5:9])"
   ]
  },
  {
   "cell_type": "code",
   "execution_count": 12,
   "metadata": {},
   "outputs": [
    {
     "name": "stdout",
     "output_type": "stream",
     "text": [
      "[83, 89, 45, 98, 53, 7, 63, 30, 26, 97]\n",
      "[83, 45, 53, 63, 26]\n",
      "[89, 98, 7, 30, 97]\n"
     ]
    }
   ],
   "source": [
    "# ¿Cuáles son los numéros que están en las posiciones pares nuestra lista?\n",
    "print(lista)\n",
    "\n",
    "print(lista[::2]) #posiciones pares segun python\n",
    "print(lista[1::2]) #posiciones pares segun los humanos\n"
   ]
  },
  {
   "cell_type": "code",
   "execution_count": 13,
   "metadata": {},
   "outputs": [],
   "source": [
    "nombres = [\"Laura\", \"Lorena\", \"Lupe\", \"Loreto\", \"Lucía\"]\n",
    "notas = [9, 8.5, 9.8, 8.9, 9.2]"
   ]
  },
  {
   "cell_type": "code",
   "execution_count": 14,
   "metadata": {},
   "outputs": [
    {
     "name": "stdout",
     "output_type": "stream",
     "text": [
      "2\n",
      "9.8\n",
      "Lupe ha sacado un 9.8 !!\n"
     ]
    }
   ],
   "source": [
    "print(nombres.index(\"Lupe\"))\n",
    "#Hemos averiguado que la posicion de Lupe en la lista era el numero 2, así que buscaremos el numero 2 en notas\n",
    "print(notas[2])\n",
    "#Lupe ha sacado un 9.8\n",
    "print(\"Lupe ha sacado un\", notas[2], \"!!\")"
   ]
  },
  {
   "cell_type": "code",
   "execution_count": 15,
   "metadata": {},
   "outputs": [
    {
     "data": {
      "text/plain": [
       "'Lupe'"
      ]
     },
     "execution_count": 15,
     "metadata": {},
     "output_type": "execute_result"
    }
   ],
   "source": [
    "notas.index(max(notas))\n",
    "#La posición de la notas más alta (9.8) es la numero 2\n",
    "nombres[2]\n",
    "#Lupe ha sacado la nota mas alta"
   ]
  },
  {
   "cell_type": "code",
   "execution_count": 16,
   "metadata": {},
   "outputs": [
    {
     "data": {
      "text/plain": [
       "True"
      ]
     },
     "execution_count": 16,
     "metadata": {},
     "output_type": "execute_result"
    }
   ],
   "source": [
    "notas.index(min(notas))\n",
    "#La posición de la notas más baja (8.5) es la numero 1\n",
    "nombres[1]\n",
    "#Lorena ha sacado la nota mas alta\n",
    "#La nota más pequeña es mayor que 5\n",
    "min(notas) > 5"
   ]
  },
  {
   "cell_type": "code",
   "execution_count": 17,
   "metadata": {},
   "outputs": [
    {
     "name": "stdout",
     "output_type": "stream",
     "text": [
      "[9.8, 9.2, 9, 8.9, 8.5]\n",
      "[8.5, 8.9, 9, 9.2, 9.8]\n"
     ]
    }
   ],
   "source": [
    "notas_nuevo_orden = sorted(notas, reverse = True)\n",
    "print(notas_nuevo_orden)\n",
    "#Ordenamos las notas sobreescribiendo el orden anterior\n",
    "notas.sort()\n",
    "print(notas)"
   ]
  },
  {
   "cell_type": "code",
   "execution_count": 18,
   "metadata": {},
   "outputs": [],
   "source": [
    "nombres_reverse = sorted(nombres, reverse=True)\n",
    "#Se ha ordenado por el orden inverso al orden alfabetico"
   ]
  },
  {
   "cell_type": "code",
   "execution_count": 19,
   "metadata": {},
   "outputs": [
    {
     "data": {
      "text/plain": [
       "[[34, 56, 82], [99, 64, 24], [12, 59, 71]]"
      ]
     },
     "execution_count": 19,
     "metadata": {},
     "output_type": "execute_result"
    }
   ],
   "source": [
    "# unir listas\n",
    "\n",
    "lunes = [34,56,82]\n",
    "martes = [99, 64, 24]\n",
    "miercoles = [12, 59, 71]\n",
    "\n",
    "#[34, 56, 82, [99, 64, 24], [12, 59, 71]]\n",
    "\n",
    "lista_dias = [lunes, martes, miercoles]\n",
    "lista_dias"
   ]
  },
  {
   "cell_type": "code",
   "execution_count": 20,
   "metadata": {},
   "outputs": [
    {
     "data": {
      "text/plain": [
       "[34, 56, 82, 99, 64, 24, 12, 59, 71]"
      ]
     },
     "execution_count": 20,
     "metadata": {},
     "output_type": "execute_result"
    }
   ],
   "source": [
    "#[34, 56, 82, 99, 64, 24, 12, 59, 71]\n",
    "lista_dias2 = lunes + martes + miercoles\n",
    "lista_dias2"
   ]
  },
  {
   "cell_type": "code",
   "execution_count": 21,
   "metadata": {},
   "outputs": [
    {
     "data": {
      "text/plain": [
       "[12, 59, 100]"
      ]
     },
     "execution_count": 21,
     "metadata": {},
     "output_type": "execute_result"
    }
   ],
   "source": [
    "#Definid de nuevo las tres listas. Insertad los siguientes valores:\n",
    "#En la lista lunes un 100 en la primera posición\n",
    "#En la lista martes un 100 en la tercera posición\n",
    "#En la lista miercoles un 100 en la última posición\n",
    "\n",
    "lunes = [34,56,82]\n",
    "martes = [99, 64, 24]\n",
    "miercoles = [12, 59, 71]\n",
    "\n",
    "lunes[0] = 100\n",
    "lunes\n",
    "\n",
    "martes[2] = 100\n",
    "martes\n",
    "\n",
    "miercoles[2] = 100\n",
    "miercoles"
   ]
  }
 ],
 "metadata": {
  "kernelspec": {
   "display_name": "Python 3.9.7 ('base')",
   "language": "python",
   "name": "python3"
  },
  "language_info": {
   "codemirror_mode": {
    "name": "ipython",
    "version": 3
   },
   "file_extension": ".py",
   "mimetype": "text/x-python",
   "name": "python",
   "nbconvert_exporter": "python",
   "pygments_lexer": "ipython3",
   "version": "3.9.7"
  },
  "orig_nbformat": 4,
  "vscode": {
   "interpreter": {
    "hash": "651c3b7b3f466eb030aa737f279c846be4db9cba49a2f229278cab5e41121ed5"
   }
  }
 },
 "nbformat": 4,
 "nbformat_minor": 2
}
