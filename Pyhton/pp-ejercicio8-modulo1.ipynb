{
 "cells": [
  {
   "cell_type": "code",
   "execution_count": 1,
   "metadata": {},
   "outputs": [
    {
     "name": "stdout",
     "output_type": "stream",
     "text": [
      "E\n"
     ]
    }
   ],
   "source": [
    "#quieren saber qué nota tienen\n",
    "\n",
    "nota_alumnas = int(input(\"¿Qué nota has sacado (numérica)?\"))\n",
    "\n",
    "if nota_alumnas < 25:\n",
    "    print(\"F\")\n",
    "elif 25 <= nota_alumnas < 45:\n",
    "    print(\"E\")\n",
    "elif 45 <= nota_alumnas < 50:\n",
    "    print(\"D\")\n",
    "elif 50 <= nota_alumnas < 60:\n",
    "    print(\"C\")\n",
    "elif 60 <= nota_alumnas < 80:\n",
    "    print(\"B\")\n",
    "else:\n",
    "    print(\"A\")\n",
    "\n",
    "#en este caso, podemos utilizar los operadores \"<=\"\" o \"==\"\n"
   ]
  },
  {
   "cell_type": "code",
   "execution_count": 17,
   "metadata": {},
   "outputs": [
    {
     "data": {
      "text/plain": [
       "37"
      ]
     },
     "execution_count": 17,
     "metadata": {},
     "output_type": "execute_result"
    }
   ],
   "source": [
    "#2. tres inputs donde a cada uno de ellos le preguntemos su edad. el objetivo es determinar quién es\n",
    "#más mayor y quien más joven\n",
    "\n",
    "input_romeo = int(input(\"¿Cuántos años tienes?\"))\n",
    "input_gadea = int(input(\"¿Cuántos años tienes?\"))\n",
    "input_vanna = int(input(\"¿Cuántos años tienes?\"))"
   ]
  },
  {
   "cell_type": "code",
   "execution_count": 18,
   "metadata": {},
   "outputs": [
    {
     "name": "stdout",
     "output_type": "stream",
     "text": [
      "8 25 37\n"
     ]
    }
   ],
   "source": [
    "print(input_romeo, input_gadea, input_vanna)"
   ]
  },
  {
   "cell_type": "code",
   "execution_count": 19,
   "metadata": {},
   "outputs": [
    {
     "name": "stdout",
     "output_type": "stream",
     "text": [
      "Vanna es la más mayor\n"
     ]
    }
   ],
   "source": [
    "if input_romeo > input_gadea and input_romeo > input_vanna:\n",
    "    print(\"Romeo es el más mayor\")\n",
    "elif input_gadea > input_romeo and input_gadea > input_vanna:\n",
    "    print(\"Gadea es la más mayor\")\n",
    "elif input_vanna > input_romeo and input_vanna > input_gadea:\n",
    "    print(\"Vanna es la más mayor\")\n",
    "else:\n",
    "    print(\"Todos tienen la misma edad\")"
   ]
  },
  {
   "cell_type": "code",
   "execution_count": 20,
   "metadata": {},
   "outputs": [
    {
     "name": "stdout",
     "output_type": "stream",
     "text": [
      "Romeo es el más joven\n"
     ]
    }
   ],
   "source": [
    "if input_romeo < input_gadea and input_romeo < input_vanna:\n",
    "    print(\"Romeo es el más joven\")\n",
    "elif input_gadea < input_romeo and input_gadea < input_vanna:\n",
    "    print(\"Gadea es la más joven\")\n",
    "elif input_vanna < input_romeo and input_vanna < input_gadea:\n",
    "    print(\"Vanna es la más joven\")\n",
    "else:\n",
    "    print(\"Todos tienen la misma edad\")"
   ]
  },
  {
   "cell_type": "code",
   "execution_count": 23,
   "metadata": {},
   "outputs": [
    {
     "name": "stdout",
     "output_type": "stream",
     "text": [
      "Buenos días Romeo\n"
     ]
    }
   ],
   "source": [
    "#3. Programa que pregunte el nombre del Usuario. \n",
    "\n",
    "nombre_usuaria = input(\"¿Cómo te llamas?\")\n",
    "if nombre_usuaria == \"Bond\":\n",
    "    print(\"Bienvenido a bordo de 007\")\n",
    "else:\n",
    "    print(\"Buenos días\", nombre_usuaria)"
   ]
  },
  {
   "cell_type": "code",
   "execution_count": 10,
   "metadata": {},
   "outputs": [
    {
     "name": "stdout",
     "output_type": "stream",
     "text": [
      "['Taiwán', 'Japan', 'Russia']\n"
     ]
    }
   ],
   "source": [
    "#4.\n",
    "tree = {\"Taiwan\": 69593,\n",
    "        \"Japan\": 49894, \n",
    "        \"Russia\": 41396, \n",
    "        \"Canada\": 36388, \n",
    "        \"Bulgaria\": 24987}\n",
    "\n",
    "mas_arboles = []\n",
    "\n",
    "if tree[\"Taiwan\"] > 40000:\n",
    "    mas_arboles.append(\"Taiwán\")\n",
    "if tree[\"Japan\"] > 40000:\n",
    "    mas_arboles.append(\"Japan\")\n",
    "if tree[\"Russia\"] > 40000:\n",
    "    mas_arboles.append(\"Russia\")\n",
    "if tree[\"Canada\"] > 40000:\n",
    "    mas_arboles.append(\"Canada\")\n",
    "if tree[\"Bulgaria\"] > 40000:\n",
    "    mas_arboles.append(\"Bulgaria\")\n",
    "\n",
    "print(mas_arboles)\n"
   ]
  },
  {
   "cell_type": "code",
   "execution_count": 58,
   "metadata": {},
   "outputs": [],
   "source": [
    "#5. los alumnos se han dividido por 2 grupos.\n",
    "\n",
    "nombre = input(\"¿Cómo te llamas?\")\n",
    "genero = input(\"¿Cual es tu género?\")\n"
   ]
  },
  {
   "cell_type": "code",
   "execution_count": 60,
   "metadata": {},
   "outputs": [
    {
     "name": "stdout",
     "output_type": "stream",
     "text": [
      "Vas con el grupo A\n"
     ]
    }
   ],
   "source": [
    "#Manera A de resolver el ejercicio 5\n",
    "if genero == \"Mujer\" and nombre[0] <= \"M\" or genero == \"Hombre\" and nombre[0] > \"M\":\n",
    "   print(\"Vas con el grupo A\")\n",
    "else:\n",
    "    print(\"Vas con el grupo B\")\n"
   ]
  },
  {
   "cell_type": "code",
   "execution_count": 62,
   "metadata": {},
   "outputs": [
    {
     "name": "stdout",
     "output_type": "stream",
     "text": [
      "Vas con el grupo A\n"
     ]
    }
   ],
   "source": [
    "#Manera B de resolverlo el ejercicio 5\n",
    "if genero == \"Mujer\":\n",
    "    if nombre[0] <= \"M\":\n",
    "        print(\"Vas con el grupo A\")\n",
    "    if nombre[0] > \"M\":\n",
    "        print(\"Vas con el grupo B\")\n",
    "\n",
    "if genero == \"Hombre\":\n",
    "    if nombre[0] <= \"M\":\n",
    "        print(\"Vas con el grupo B\")\n",
    "    if nombre[0] > \"M\":\n",
    "        print(\"Vas con el grupo A\")"
   ]
  },
  {
   "cell_type": "code",
   "execution_count": 31,
   "metadata": {},
   "outputs": [
    {
     "data": {
      "text/plain": [
       "[0, 1, 2, 3]"
      ]
     },
     "execution_count": 31,
     "metadata": {},
     "output_type": "execute_result"
    }
   ],
   "source": [
    "#6. añadir elementos a una lista con el bucle while\n",
    "\n",
    "lista_vacia = []\n",
    "variable = 0\n",
    "while len(lista_vacia) < 4:\n",
    "    lista_vacia.append(variable)\n",
    "    variable += 1\n",
    "\n",
    "lista_vacia"
   ]
  },
  {
   "cell_type": "code",
   "execution_count": 55,
   "metadata": {},
   "outputs": [
    {
     "name": "stdout",
     "output_type": "stream",
     "text": [
      "1\n",
      "2\n"
     ]
    }
   ],
   "source": [
    "#7. Mientras que el valor de z sea menor que 3: Si el valor de z es igual a 0: Printead el valor de z Almancenad el valor en una lista auxiliar Sumadle 1 al valor de z\n",
    "\n",
    "z = 0\n",
    "z_lista = []\n",
    "\n",
    "while z < 3:\n",
    "    if z == 0:\n",
    "        z+=1\n",
    "        print(z)\n",
    "        z_lista.append(z)\n",
    "    if z == 1:\n",
    "        z+=1\n",
    "        print(z)\n",
    "        z_lista.append(z)\n",
    "    break\n",
    "\n",
    "print(z_lista)"
   ]
  },
  {
   "cell_type": "code",
   "execution_count": 3,
   "metadata": {},
   "outputs": [
    {
     "name": "stdout",
     "output_type": "stream",
     "text": [
      "La suma total de los numeros contenido en la lista es igual a 115\n"
     ]
    }
   ],
   "source": [
    "#8. Suma de los números de una lista utilizando el bucle while\n",
    "\n",
    "i = 0\n",
    "lista = [23, 45, 12, 10, 25]\n",
    "suma = 0\n",
    "\n",
    "while i < len(lista):\n",
    "    suma = lista[i] + suma\n",
    "    i +=1\n",
    "    \n",
    "print(f'La suma total de los numeros contenido en la lista es igual a {suma}')"
   ]
  },
  {
   "cell_type": "code",
   "execution_count": 74,
   "metadata": {},
   "outputs": [
    {
     "name": "stdout",
     "output_type": "stream",
     "text": [
      "La entrada es gratis!\n"
     ]
    }
   ],
   "source": [
    "#9. Programa para calcular el precio que debe de cobrar a sus clientes para entrar.\n",
    "\n",
    "edad_cliente = int(input(\"¿Cuántos años tienes? \"))\n",
    "\n",
    "if edad_cliente < 4:\n",
    "    print(\"¡La entrada es gratis para ti!\")\n",
    "elif 4 < edad_cliente < 18:\n",
    "    print(\"¡Son 5 euros, por favor!\")\n",
    "else:\n",
    "    print(\"¡Son 10 euros, por favor!\")"
   ]
  },
  {
   "cell_type": "code",
   "execution_count": 103,
   "metadata": {},
   "outputs": [
    {
     "name": "stdout",
     "output_type": "stream",
     "text": [
      "<class 'list'>\n"
     ]
    }
   ],
   "source": [
    "#10. Programa que pregunte al usuario si quiere una pizza vegetariana o no. En función de su respuesta,\n",
    "    #se muestra un listado de ingredientes y solo se puede coger uno. \n",
    "    # Al final se muestra: Si es vegetariana o no y todos los ingredientes que lleva.\n",
    "\n",
    "pizza_generica = [\"mozzarella\", \"tomate\"]\n",
    "pizza_vegetariana = [\"pimiento\", \"tofu\"]\n",
    "pizza_omnivora = [\"pepperoni\", \"jamón\", \"salmón\"]\n",
    "print(type(pizza_generica))\n",
    "\n"
   ]
  },
  {
   "cell_type": "code",
   "execution_count": 110,
   "metadata": {},
   "outputs": [
    {
     "name": "stdout",
     "output_type": "stream",
     "text": [
      "Tu pizza es de mozzarella , tomate y tofu\n"
     ]
    }
   ],
   "source": [
    "pregunta_pizza = input(\"¿Quieres una pizza vegetariana u omnívora?\")\n",
    "\n",
    "if pregunta_pizza == \"Vegetariana\":\n",
    "    ingredientes_veg = input(\"¿La quieres con pimiento o con tofu?\")\n",
    "    if ingredientes_veg == \"Pimiento\":\n",
    "        print(\"Tu pizza es de\", pizza_generica[0],\",\", pizza_generica[1], \"y\", pizza_vegetariana[0])\n",
    "    else:\n",
    "        print(\"Tu pizza es de\", pizza_generica[0],\",\", pizza_generica[1], \"y\", pizza_vegetariana[1])\n",
    "else:\n",
    "    ingredientes_omni = input(\"¿La quieres con pepperoni, jamón o salmón?\")\n",
    "    if ingredientes_omni == \"Pepperoni\":\n",
    "            print(\"Tu pizza es de\", pizza_generica[0],\",\", pizza_generica[1], \"y\", pizza_omnivora[0])\n",
    "    elif ingredientes_omni == \"Jamón\":\n",
    "            print(\"Tu pizza es de\",  pizza_generica[0],\",\", pizza_generica[1], \"y\", pizza_omnivora[1])\n",
    "    else:\n",
    "         print(\"Tu pizza es de\",  pizza_generica[0],\",\", pizza_generica[1], \"y\", pizza_omnivora[2])"
   ]
  }
 ],
 "metadata": {
  "kernelspec": {
   "display_name": "Python 3.9.7 ('base')",
   "language": "python",
   "name": "python3"
  },
  "language_info": {
   "codemirror_mode": {
    "name": "ipython",
    "version": 3
   },
   "file_extension": ".py",
   "mimetype": "text/x-python",
   "name": "python",
   "nbconvert_exporter": "python",
   "pygments_lexer": "ipython3",
   "version": "3.9.7"
  },
  "orig_nbformat": 4,
  "vscode": {
   "interpreter": {
    "hash": "651c3b7b3f466eb030aa737f279c846be4db9cba49a2f229278cab5e41121ed5"
   }
  }
 },
 "nbformat": 4,
 "nbformat_minor": 2
}
