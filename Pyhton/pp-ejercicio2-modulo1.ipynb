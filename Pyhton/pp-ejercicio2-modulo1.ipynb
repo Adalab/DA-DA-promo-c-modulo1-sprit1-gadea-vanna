{
 "cells": [
  {
   "cell_type": "code",
   "execution_count": 13,
   "metadata": {},
   "outputs": [
    {
     "name": "stdout",
     "output_type": "stream",
     "text": [
      "gadea,vanna,romeo\n"
     ]
    }
   ],
   "source": [
    "amigos = input('Dime el nombre de tres amigxs')\n",
    "print(amigos)\n"
   ]
  },
  {
   "cell_type": "markdown",
   "metadata": {},
   "source": [
    "In order to have a list of elements once we have run the input we have to use the .split.\n",
    "It will give 3 different elements."
   ]
  },
  {
   "cell_type": "code",
   "execution_count": 14,
   "metadata": {},
   "outputs": [
    {
     "name": "stdout",
     "output_type": "stream",
     "text": [
      "['gadea', 'vanna', 'romeo']\n"
     ]
    }
   ],
   "source": [
    "lista_amigos = amigos.split(\",\")\n",
    "print(lista_amigos)"
   ]
  },
  {
   "cell_type": "code",
   "execution_count": 16,
   "metadata": {},
   "outputs": [
    {
     "name": "stdout",
     "output_type": "stream",
     "text": [
      "1.60,1.70,0.80\n"
     ]
    }
   ],
   "source": [
    "alturas_amigos = input('¿Cuánto miden tus amigxs?')\n",
    "print(alturas_amigos)\n",
    "\n"
   ]
  },
  {
   "cell_type": "code",
   "execution_count": 17,
   "metadata": {},
   "outputs": [
    {
     "name": "stdout",
     "output_type": "stream",
     "text": [
      "['1.60', '1.70', '0.80']\n"
     ]
    }
   ],
   "source": [
    "lista_alturas = alturas_amigos.split(\",\")\n",
    "print(lista_alturas)\n",
    "\n"
   ]
  },
  {
   "cell_type": "code",
   "execution_count": 18,
   "metadata": {},
   "outputs": [],
   "source": [
    "lista_alturas = [float(i) for i in lista_alturas] "
   ]
  },
  {
   "cell_type": "code",
   "execution_count": 39,
   "metadata": {},
   "outputs": [
    {
     "name": "stdout",
     "output_type": "stream",
     "text": [
      "[1.7, 1.6, 0.8]\n",
      "['vanna', 'romeo', 'gadea']\n"
     ]
    }
   ],
   "source": [
    "#ordenamos las listas en orden descendente\n",
    "\n",
    "lista_alturas.sort(reverse=True)\n",
    "print(lista_alturas)\n",
    "\n",
    "#lista_amigos_sorted = sorted(lista_amigos)\n",
    "lista_amigos.sort(reverse = True)\n",
    "print(lista_amigos)\n"
   ]
  },
  {
   "cell_type": "code",
   "execution_count": 41,
   "metadata": {},
   "outputs": [],
   "source": [
    "lista1 = [44, 55, 67, 44, 98, 29]\n",
    "lista2 = [34, 56, 56, 78, 67, 56]\n"
   ]
  },
  {
   "cell_type": "markdown",
   "metadata": {},
   "source": [
    "lista_lista is a list of 2 elements"
   ]
  },
  {
   "cell_type": "code",
   "execution_count": 42,
   "metadata": {},
   "outputs": [
    {
     "name": "stdout",
     "output_type": "stream",
     "text": [
      "[[44, 55, 67, 44, 98, 29], [34, 56, 56, 78, 67, 56]]\n"
     ]
    }
   ],
   "source": [
    "lista_lista = [lista1, lista2]\n",
    "print(lista_lista)"
   ]
  },
  {
   "cell_type": "markdown",
   "metadata": {},
   "source": [
    "lista_numeros is a list of all the elements we had in the 2 different lists (list1 and list2)"
   ]
  },
  {
   "cell_type": "code",
   "execution_count": 43,
   "metadata": {},
   "outputs": [
    {
     "name": "stdout",
     "output_type": "stream",
     "text": [
      "[44, 55, 67, 44, 98, 29, 34, 56, 56, 78, 67, 56]\n"
     ]
    }
   ],
   "source": [
    "lista_numeros = (lista1 + lista2) #para juntar dos listas ponemos dos paréntesis, no dos corchetes\n",
    "print(lista_numeros)"
   ]
  },
  {
   "cell_type": "code",
   "execution_count": 45,
   "metadata": {},
   "outputs": [
    {
     "data": {
      "text/plain": [
       "0"
      ]
     },
     "execution_count": 45,
     "metadata": {},
     "output_type": "execute_result"
    }
   ],
   "source": [
    "# la variable lista_lista tiene 2 elementos, tiene el elemento lista1 y el elemento lista2 \n",
    "# por eso no encuentra el numero 67, ya que no lo cuenta como un valor individual.\n",
    "\n",
    "lista_lista.count(67)"
   ]
  },
  {
   "cell_type": "code",
   "execution_count": 46,
   "metadata": {},
   "outputs": [
    {
     "data": {
      "text/plain": [
       "2"
      ]
     },
     "execution_count": 46,
     "metadata": {},
     "output_type": "execute_result"
    }
   ],
   "source": [
    "# confirmamos nuestra hipótesis con el comando len.\n",
    "\n",
    "len(lista_lista)\n"
   ]
  },
  {
   "cell_type": "markdown",
   "metadata": {},
   "source": [
    "lista_numeros\n",
    "It gives 2 because it is looking for the number 67 in all the elements which are the below \n",
    "[44, 55, 67, 44, 98, 29, 34, 56, 56, 78, 67, 56] - 12 elements"
   ]
  },
  {
   "cell_type": "code",
   "execution_count": 28,
   "metadata": {},
   "outputs": [
    {
     "data": {
      "text/plain": [
       "2"
      ]
     },
     "execution_count": 28,
     "metadata": {},
     "output_type": "execute_result"
    }
   ],
   "source": [
    "# ahora bien, cuando queremos buscar el numero 67 en la lista_numeros, \n",
    "# nos devuelve 2 casos ya que en esta lista cada numero es un valor individual.\n",
    "\n",
    "lista_numeros.count(67)"
   ]
  },
  {
   "cell_type": "code",
   "execution_count": 32,
   "metadata": {},
   "outputs": [
    {
     "data": {
      "text/plain": [
       "12"
      ]
     },
     "execution_count": 32,
     "metadata": {},
     "output_type": "execute_result"
    }
   ],
   "source": [
    "# confirmamos que tenemos 12 numeros en la lista_numeros\n",
    "\n",
    "len(lista_numeros)"
   ]
  },
  {
   "cell_type": "code",
   "execution_count": 60,
   "metadata": {},
   "outputs": [
    {
     "data": {
      "text/plain": [
       "[98, 78, 67, 67, 56, 56, 56, 55, 44, 44, 34, 29]"
      ]
     },
     "execution_count": 60,
     "metadata": {},
     "output_type": "execute_result"
    }
   ],
   "source": [
    "lista_numeros.sort(reverse = True)\n",
    "lista_numeros"
   ]
  }
 ],
 "metadata": {
  "kernelspec": {
   "display_name": "Python 3.9.7 ('base')",
   "language": "python",
   "name": "python3"
  },
  "language_info": {
   "codemirror_mode": {
    "name": "ipython",
    "version": 3
   },
   "file_extension": ".py",
   "mimetype": "text/x-python",
   "name": "python",
   "nbconvert_exporter": "python",
   "pygments_lexer": "ipython3",
   "version": "3.9.7"
  },
  "orig_nbformat": 4,
  "vscode": {
   "interpreter": {
    "hash": "651c3b7b3f466eb030aa737f279c846be4db9cba49a2f229278cab5e41121ed5"
   }
  }
 },
 "nbformat": 4,
 "nbformat_minor": 2
}
