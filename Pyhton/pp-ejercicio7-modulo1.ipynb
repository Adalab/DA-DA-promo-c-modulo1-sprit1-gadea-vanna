{
 "cells": [
  {
   "cell_type": "code",
   "execution_count": 27,
   "metadata": {},
   "outputs": [
    {
     "name": "stdout",
     "output_type": "stream",
     "text": [
      "<class 'int'>\n"
     ]
    }
   ],
   "source": [
    "#1. escribid un programa que pregunte al usuario una cantidad a invertir, interés anual y nº de años.\n",
    "#muestre en la pantalla el capital obtenido en la inversión cada año que dura la inversión.\n",
    "\n",
    "capital = int(input(\"¿Cuánto capital quieres invertir?\"))\n",
    "interes_anual = int(input(\"¿A cuánto interés lo desea?\"))/100 #variable tipo float"
   ]
  },
  {
   "cell_type": "code",
   "execution_count": 34,
   "metadata": {},
   "outputs": [
    {
     "name": "stdout",
     "output_type": "stream",
     "text": [
      "<class 'int'>\n"
     ]
    }
   ],
   "source": [
    "print(type(años[0]))"
   ]
  },
  {
   "cell_type": "code",
   "execution_count": 48,
   "metadata": {},
   "outputs": [
    {
     "name": "stdout",
     "output_type": "stream",
     "text": [
      "0 2000.0\n",
      "1 2000.0\n",
      "2 2000.0\n",
      "3 2000.0\n",
      "4 2000.0\n",
      "5 2000.0\n",
      "6 2000.0\n",
      "7 2000.0\n",
      "8 2000.0\n",
      "9 2000.0\n",
      "---------\n",
      "Según tu inversión de 10000 €, en un plazo de [10]  años obtendrás 2000.0 € al año\n"
     ]
    }
   ],
   "source": [
    "for a in range(años[0]):\n",
    "    print(a, (capital * interes_anual))\n",
    "\n",
    "print(\"---------\")\n",
    "\n",
    "print(\"Según tu inversión de\", capital, \"€, en un plazo de\", años, \" años obtendrás\", capital * interes_anual, \"€ al año\")\n",
    "#por cada año, lo que quieren es ver el capital obtenido en la inversión. capital * interés\n"
   ]
  },
  {
   "cell_type": "code",
   "execution_count": 25,
   "metadata": {},
   "outputs": [
    {
     "data": {
      "text/plain": [
       "200000"
      ]
     },
     "execution_count": 25,
     "metadata": {},
     "output_type": "execute_result"
    }
   ],
   "source": [
    "capital * interes_anual"
   ]
  },
  {
   "cell_type": "code",
   "execution_count": 13,
   "metadata": {},
   "outputs": [
    {
     "name": "stdout",
     "output_type": "stream",
     "text": [
      "10000\n",
      "0.20\n",
      "10\n"
     ]
    }
   ],
   "source": [
    "print(capital)\n",
    "print(interes_anual)\n",
    "print(años)"
   ]
  },
  {
   "cell_type": "code",
   "execution_count": null,
   "metadata": {},
   "outputs": [],
   "source": [
    "capital_total_años = capital * años\n",
    "ben_interes_total = capital * interes_anual * años\n",
    "capital_def = capital_total_años + ben_interes_total"
   ]
  },
  {
   "cell_type": "code",
   "execution_count": 17,
   "metadata": {},
   "outputs": [
    {
     "name": "stdout",
     "output_type": "stream",
     "text": [
      "2 x 0\n",
      "2 x 1\n",
      "2 x 2\n",
      "2 x 3\n",
      "2 x 4\n",
      "2 x 5\n",
      "2 x 6\n",
      "2 x 7\n",
      "2 x 8\n",
      "2 x 9\n",
      "2 x 10\n"
     ]
    }
   ],
   "source": [
    "#2. \n",
    "numero_tabla = input(\"Dame un número\")\n",
    "tabla_multiplicar = []\n",
    "\n",
    "for numero in numero_tabla:\n",
    "    tabla_multiplicar.append(numero)\n",
    "\n",
    "for multiplo in range(11):\n",
    "   print(numero, \"x\", multiplo)"
   ]
  },
  {
   "cell_type": "code",
   "execution_count": 58,
   "metadata": {},
   "outputs": [
    {
     "name": "stdout",
     "output_type": "stream",
     "text": [
      "[180]\n"
     ]
    }
   ],
   "source": [
    "#4. un programa que nos muestre los números con las siguientes condiciones:\n",
    "    #1) número divisible entre 5 (%), 2) num > 150 pass al siguiente número, 3) num > 500 break\n",
    "\n",
    "numbers = [12, 75, 150, 180, 145, 525, 50]\n",
    "num_final = []\n",
    "\n",
    "for n in numbers:\n",
    "    if n % 5 == 0 and n < 500 and n > 150:\n",
    "        num_final.append(n)\n",
    "        pass\n",
    "print(num_final)\n"
   ]
  },
  {
   "cell_type": "code",
   "execution_count": 73,
   "metadata": {},
   "outputs": [
    {
     "name": "stdout",
     "output_type": "stream",
     "text": [
      "[50, 40, 30, 20, 10]\n"
     ]
    }
   ],
   "source": [
    "#5. imprime la lista al revés con un for\n",
    "list1 = [10, 20, 30, 40, 50]\n",
    "list1.sort(reverse=True)\n",
    "print(list1)\n",
    "\n",
    "for lista2 in list1:\n",
    "    print(lista2)\n",
    "\n"
   ]
  },
  {
   "cell_type": "code",
   "execution_count": 1,
   "metadata": {},
   "outputs": [
    {
     "name": "stdout",
     "output_type": "stream",
     "text": [
      "Happy coding 💻\n",
      "Happy coding 💻\n",
      "Happy coding 💻\n"
     ]
    }
   ],
   "source": [
    "#6. usando un try... except... cread un programa para evitar que nos dé un error en el código:\n",
    "\n",
    "for i in ['1', '2', '3']: #lo imprime por cada número que aparece. aunque ahora da error \n",
    "    try:\n",
    "        print (i**2)\n",
    "    except:\n",
    "        print(\"Happy coding 💻\")\n"
   ]
  }
 ],
 "metadata": {
  "kernelspec": {
   "display_name": "Python 3.10.7 64-bit",
   "language": "python",
   "name": "python3"
  },
  "language_info": {
   "codemirror_mode": {
    "name": "ipython",
    "version": 3
   },
   "file_extension": ".py",
   "mimetype": "text/x-python",
   "name": "python",
   "nbconvert_exporter": "python",
   "pygments_lexer": "ipython3",
   "version": "3.10.7"
  },
  "orig_nbformat": 4,
  "vscode": {
   "interpreter": {
    "hash": "0c7d85b6ca8c4414e9248eeaa7ba80594b1aefb2b06fa07a2481546730d70288"
   }
  }
 },
 "nbformat": 4,
 "nbformat_minor": 2
}
