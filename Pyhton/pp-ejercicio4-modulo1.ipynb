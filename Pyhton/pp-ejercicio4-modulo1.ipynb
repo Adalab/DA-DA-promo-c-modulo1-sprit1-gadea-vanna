{
 "cells": [
  {
   "cell_type": "code",
   "execution_count": 1,
   "metadata": {},
   "outputs": [
    {
     "name": "stdout",
     "output_type": "stream",
     "text": [
      "{'nombres': ['romeo', ' gadea', ' vanna'], 'apellidos': ['lozito', ' autric', ' lozito2'], 'edades': ['8', ' 25', ' 37'], 'hijos': ['4', ' 2', ' 0']}\n"
     ]
    }
   ],
   "source": [
    "#hemos creado las listas de manera diferente: una solo con corchetes y otra con corchetes y comillas. \n",
    "#nos da el mismo resultado, así que no entendemos la diferencia (si existe) entre poner corchetes y comillas\n",
    "bikini = {'nombres' : input('¿Me podrías decir 3 nombres?').split(\",\"),\n",
    "'apellidos': input('¿Me podrías decir 3 apellidos?').split(\",\"),\n",
    "'edades': input('¿Me podrías decir 3 edades?').split(\",\"),\n",
    "'hijos': input('¿Cuántos hijos/as tienes?').split(\",\")}\n",
    "\n",
    "print(bikini)"
   ]
  },
  {
   "cell_type": "code",
   "execution_count": 2,
   "metadata": {},
   "outputs": [
    {
     "name": "stdout",
     "output_type": "stream",
     "text": [
      "{'nombres': ['romeo', ' gadea', ' vanna'], 'apellidos': ['lozito', ' autric', ' lozito2'], 'edades': ['8', ' 25', ' 37'], 'hijos': ['4', ' 2', ' 0']}\n"
     ]
    }
   ],
   "source": [
    "print(bikini)"
   ]
  },
  {
   "cell_type": "code",
   "execution_count": 3,
   "metadata": {},
   "outputs": [
    {
     "data": {
      "text/plain": [
       "{'nombres': ['romeo', ' gadea', ' vanna'],\n",
       " 'apellidos': ['lozito', ' autric', ' lozito2'],\n",
       " 'edades': ['8', '25', '37'],\n",
       " 'hijos': ['4', '2', '0'],\n",
       " 'hermanos': [3, 1, 1]}"
      ]
     },
     "execution_count": 3,
     "metadata": {},
     "output_type": "execute_result"
    }
   ],
   "source": [
    "bikini.update({\"hermanos\": [3, 1, 1]})\n",
    "bikini"
   ]
  },
  {
   "cell_type": "code",
   "execution_count": 3,
   "metadata": {},
   "outputs": [
    {
     "name": "stdout",
     "output_type": "stream",
     "text": [
      "dict_keys(['nombres', 'apellidos', 'edades', 'hijos'])\n",
      "dict_values([['romeo', ' gadea', ' vanna'], ['lozito', ' autric', ' lozito2'], ['8', ' 25', ' 37'], ['4', ' 2', ' 0']])\n"
     ]
    }
   ],
   "source": [
    "#buscamos las keys y los values en el diccionario\n",
    "\n",
    "print(bikini.keys())\n",
    "print(bikini.values())"
   ]
  },
  {
   "cell_type": "code",
   "execution_count": 4,
   "metadata": {},
   "outputs": [
    {
     "name": "stdout",
     "output_type": "stream",
     "text": [
      "['romeo', ' gadea', ' vanna']\n",
      "['romeo', ' gadea', ' vanna']\n"
     ]
    }
   ],
   "source": [
    "#consultamos los values dentro de la key 'nombres'\n",
    "print(bikini[\"nombres\"])\n",
    "#otra manera de hacerlo sería, el grupo de nombres a partir de cero:\n",
    "print(bikini[\"nombres\"][0:])"
   ]
  },
  {
   "cell_type": "code",
   "execution_count": 13,
   "metadata": {},
   "outputs": [
    {
     "name": "stdout",
     "output_type": "stream",
     "text": [
      "{'nombres': ['romeo', ' gadea', ' vanna'], 'apellidos': ['lozito', ' autric', ' lozito2'], 'edades': ['8', ' 25', ' 37'], 'hijos': ['4', ' 2', ' 0'], 'nacionalidad': 'desconocida'}\n"
     ]
    }
   ],
   "source": [
    "#encuentra la key nacionalidad, si no existe tendremos que buscar una key nueva que tenga como valor desconocida.\n",
    "bikini.setdefault('nacionalidad', 'desconocida')\n",
    "print(bikini)\n"
   ]
  },
  {
   "cell_type": "code",
   "execution_count": 10,
   "metadata": {},
   "outputs": [
    {
     "data": {
      "text/plain": [
       "[('apellidos', ['lozito', ' autric', ' lozito2']),\n",
       " ('edades', ['8', ' 25', ' 37']),\n",
       " ('hijos', ['4', ' 2', ' 0']),\n",
       " ('nombres', ['romeo', ' gadea', ' vanna'])]"
      ]
     },
     "execution_count": 10,
     "metadata": {},
     "output_type": "execute_result"
    }
   ],
   "source": [
    "#ordenar las cosas en el diccionario teniendo en cuenta las key y values, que nos devolverá una lista de tuplas.\n",
    "#convierte esta lista de tuplas en diccionario.\n",
    "\n",
    "sorted(bikini.items())"
   ]
  },
  {
   "cell_type": "code",
   "execution_count": 14,
   "metadata": {},
   "outputs": [
    {
     "name": "stdout",
     "output_type": "stream",
     "text": [
      "desconocida\n"
     ]
    }
   ],
   "source": [
    "#eliminar la key de nacionalidad, la última que hemos puesto. hay dos maneras para hacerlo:\n",
    "bikini_copy = bikini.copy()\n",
    "#print(bikini.popitem()) #esta manera de eliminar la key nacionalidad funcionaría ya que sabemos que es la última que ha sido incorporada\n",
    "print(bikini.pop('nacionalidad')) #esta manera de eliminar keys se realiza sabiendo el nombre de la key que deseamos borrar"
   ]
  },
  {
   "cell_type": "code",
   "execution_count": 9,
   "metadata": {},
   "outputs": [
    {
     "name": "stdout",
     "output_type": "stream",
     "text": [
      "4\n",
      "romeo\n",
      "La persona con más hijos es Romeo\n"
     ]
    }
   ],
   "source": [
    "#¿qué persona tiene más hijos?\n",
    "numero_de_hijos = bikini[\"hijos\"]\n",
    "print(max(numero_de_hijos))\n",
    "\n",
    "#ahora tenemos que saber en qué posición está nuestro valor, '4'\n",
    "numero_de_hijos.index(\"4\") #ejecutamos '4' y aparece en la posición 0 (1 en humano).\n",
    "print(bikini[\"nombres\"][0]) #la persona que tiene más hijos es romeo\n",
    "\n",
    "print(\"La persona con más hijos es\", bikini[\"nombres\"][0].capitalize()) #añadimos .capitalize ya que el input tenía el nombre en minúscula y buscábamos una frase con buen formato"
   ]
  },
  {
   "cell_type": "code",
   "execution_count": 13,
   "metadata": {},
   "outputs": [
    {
     "name": "stdout",
     "output_type": "stream",
     "text": [
      "37\n",
      "8\n"
     ]
    }
   ],
   "source": [
    "#¿Quién es la persona más joven?\n",
    "#para contestar a la pregunta, convertimos la variable de listas a integrers\n",
    "edades[0] = int(edades[0])\n",
    "edades[1] = int(edades[1])\n",
    "edades[2] = int(edades[2])\n",
    "\n",
    "print(max(edades))\n",
    "print(min(edades))"
   ]
  }
 ],
 "metadata": {
  "kernelspec": {
   "display_name": "Python 3.10.7 64-bit",
   "language": "python",
   "name": "python3"
  },
  "language_info": {
   "codemirror_mode": {
    "name": "ipython",
    "version": 3
   },
   "file_extension": ".py",
   "mimetype": "text/x-python",
   "name": "python",
   "nbconvert_exporter": "python",
   "pygments_lexer": "ipython3",
   "version": "3.10.7"
  },
  "orig_nbformat": 4,
  "vscode": {
   "interpreter": {
    "hash": "0c7d85b6ca8c4414e9248eeaa7ba80594b1aefb2b06fa07a2481546730d70288"
   }
  }
 },
 "nbformat": 4,
 "nbformat_minor": 2
}
